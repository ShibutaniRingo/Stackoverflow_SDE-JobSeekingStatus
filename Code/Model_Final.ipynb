{
 "cells": [
  {
   "cell_type": "code",
   "execution_count": null,
   "metadata": {},
   "outputs": [],
   "source": [
    "#### df = pd.read_csv('developer_survey_2018/survey_results_public.csv')"
   ]
  },
  {
   "cell_type": "code",
   "execution_count": 2,
   "metadata": {},
   "outputs": [],
   "source": [
    "#df.info(verbose=True, null_counts=True)"
   ]
  },
  {
   "cell_type": "code",
   "execution_count": null,
   "metadata": {},
   "outputs": [],
   "source": [
    "# columns_keep = ['Country', 'Student', 'Employment', 'FormalEducation', 'UndergradMajor', 'CompanySize',\n",
    "#                'DevType','YearsCoding','JobSatisfaction','JobSearchStatus','LastNewJob',\n",
    "#                'LanguageWorkedWith', 'LanguageDesireNextYear', 'DatabaseWorkedWith','PlatformWorkedWith',\n",
    "#                'PlatformDesireNextYear','IDE','OperatingSystem',\n",
    "#                'HoursComputer','HoursOutside','SkipMeals','Exercise','Gender','EducationParents','Age','Dependents']\n",
    "\n",
    "# len(columns_keep)"
   ]
  },
  {
   "cell_type": "code",
   "execution_count": null,
   "metadata": {},
   "outputs": [],
   "source": [
    "#df = df[columns_keep]"
   ]
  },
  {
   "cell_type": "code",
   "execution_count": null,
   "metadata": {},
   "outputs": [],
   "source": [
    "#df.to_csv('selected_columns.csv')"
   ]
  },
  {
   "cell_type": "code",
   "execution_count": 1,
   "metadata": {},
   "outputs": [],
   "source": [
    "from xgboost.sklearn import XGBClassifier\n",
    "from matplotlib.pylab import rcParams\n",
    "import xgboost as xgb\n",
    "from sklearn import  metrics\n",
    "from sklearn.model_selection import cross_val_score\n",
    "from sklearn.model_selection import train_test_split\n",
    "from sklearn.linear_model import LogisticRegression\n",
    "\n",
    "import pandas as pd\n",
    "import numpy as np\n",
    "\n",
    "\n",
    "from sklearn.tree import DecisionTreeClassifier\n",
    "from sklearn import tree\n",
    "from sklearn.ensemble import RandomForestClassifier\n",
    "from sklearn.model_selection import GridSearchCV"
   ]
  },
  {
   "cell_type": "code",
   "execution_count": 2,
   "metadata": {},
   "outputs": [
    {
     "name": "stderr",
     "output_type": "stream",
     "text": [
      "/anaconda3/lib/python3.7/site-packages/IPython/core/interactiveshell.py:3020: DtypeWarning: Columns (6,9,10,11,12,13,14,15,16,17,18,19,20,21,22,23,24,25,26) have mixed types. Specify dtype option on import or set low_memory=False.\n",
      "  interactivity=interactivity, compiler=compiler, result=result)\n"
     ]
    }
   ],
   "source": [
    "\n",
    "df = pd.read_csv('selected_columns.csv', index_col = 0)\n",
    "\n",
    "def regroup_country(x):\n",
    "    if x != 'United States' and x != 'India' and pd.isnull(x) == False:\n",
    "        x = 'Others_Country'\n",
    "    return x\n",
    "    \n",
    "def regroup_education(x):\n",
    "    if x != 'Bachelor’s degree (BA, BS, B.Eng., etc.)' and x != 'Master’s degree (MA, MS, M.Eng., MBA, etc.)' and x!= 'Other doctoral degree (Ph.D, Ed.D., etc.)' and pd.isnull(x) == False:\n",
    "        x = 'Below Bachelor'\n",
    "    try:\n",
    "        x = x.replace('Bachelor’s degree (BA, BS, B.Eng., etc.)',\"Bachelor\")\n",
    "        x = x.replace('Master’s degree (MA, MS, M.Eng., MBA, etc.)',\"Master\")\n",
    "        x = x.replace('Other doctoral degree (Ph.D, Ed.D., etc.)',\"PhD.\")\n",
    "    except:\n",
    "        pass\n",
    "\n",
    "    return x\n",
    "    \n",
    "def regroup_years_coding(x):\n",
    "    try:\n",
    "        x = x.replace('12-14 years',\"12-17 years\")\n",
    "        x = x.replace('15-17 years',\"12-17 years\")\n",
    "        x = x.replace('18-20 years',\"18+ years\")\n",
    "        x = x.replace('21-23 years',\"18+ years\")\n",
    "        x = x.replace('24-26 years',\"18+ years\")\n",
    "        x = x.replace('27-29 years',\"18+ years\")\n",
    "        x = x.replace('30 or more years',\"18+ years\")\n",
    "    except:\n",
    "        pass\n",
    "\n",
    "    return x\n",
    "\n",
    "def job_satisfaction_level(x):\n",
    "    try:\n",
    "        x = x.replace('Extremely dissatisfied','-3')\n",
    "        x = x.replace('Moderately dissatisfied','-2')\n",
    "        x = x.replace('Slightly dissatisfied','-1')\n",
    "        x = x.replace('Neither satisfied nor dissatisfied','0')\n",
    "        x = x.replace('Slightly satisfied','1')\n",
    "        x = x.replace('Moderately satisfied','2')\n",
    "        x = x.replace('Extremely satisfied','3')\n",
    "        x = int(x)\n",
    "    except:\n",
    "        pass\n",
    "\n",
    "    return x\n",
    "\n",
    "def regroup_gender(x):\n",
    "    if x != 'Male' and x != 'Female' and pd.isnull(x) == False:\n",
    "        x = 'Other_Genders'\n",
    "    return x\n",
    "\n",
    "def regroup_age(x):\n",
    "    try:\n",
    "        x = x.replace('45 - 54 years old',\"45 years or older\")\n",
    "        x = x.replace('55 - 64 years old',\"45 years or older\")\n",
    "        x = x.replace('65 years or older',\"45 years or older\")\n",
    "    except:\n",
    "        pass\n",
    "\n",
    "    return x\n",
    "\n",
    "\n",
    "df['Country'] = df['Country'].apply(regroup_country)\n",
    "df['FormalEducation'] = df['FormalEducation'].apply(regroup_education)\n",
    "df['YearsCoding'] = df['YearsCoding'].apply(regroup_years_coding)\n",
    "df['JobSatisfaction'] = df['JobSatisfaction'].apply(job_satisfaction_level)\n",
    "df['Gender'] = df['Gender'].apply(regroup_gender)\n",
    "df['EducationParents'] = df['EducationParents'].apply(regroup_education)\n",
    "df['Age'] = df['Age'].apply(regroup_age)"
   ]
  },
  {
   "cell_type": "code",
   "execution_count": 3,
   "metadata": {
    "scrolled": true
   },
   "outputs": [],
   "source": [
    "df=df[df['Gender']!='Other_Genders']\n",
    "features = list(df.columns)\n",
    "features.remove('PlatformDesireNextYear')\n",
    "features.remove('LanguageDesireNextYear')\n",
    "df=df[features]"
   ]
  },
  {
   "cell_type": "code",
   "execution_count": 4,
   "metadata": {},
   "outputs": [],
   "source": [
    "df['Employment']=df['Employment'].apply(lambda x:'Not Employed' \n",
    "                          if x in ['Not employed, but looking for work','Not employed, and not looking for work','Retired'\n",
    "                                  ] else x)\n",
    "df['Employment']=df['Employment'].apply(lambda x:'Self Employed' \n",
    "                          if x=='Independent contractor, freelancer, or self-employed' else x)"
   ]
  },
  {
   "cell_type": "code",
   "execution_count": 5,
   "metadata": {},
   "outputs": [],
   "source": [
    "def regroup_undergrad_mojor(x):\n",
    "    group1 = 'Computer_Background'\n",
    "    group2 = 'Ohter_Engineering_Background'\n",
    "    group3 = 'Non-Engineering/CS'\n",
    "    group4 = 'Business'\n",
    "    \n",
    "    try:\n",
    "        x = x.replace('A business discipline (ex. accounting, finance, marketing)',group4)\n",
    "        x = x.replace('A health science (ex. nursing, pharmacy, radiology)',group3)\n",
    "        x = x.replace('A humanities discipline (ex. literature, history, philosophy)',group3)\n",
    "        x = x.replace('A social science (ex. anthropology, psychology, political science)',group3)\n",
    "        x = x.replace('A natural science (ex. biology, chemistry, physics)',group2)\n",
    "        x = x.replace('Another engineering discipline (ex. civil, electrical, mechanical)',group2)\n",
    "        x = x.replace('Computer science, computer engineering, or software engineering',group1)\n",
    "        x = x.replace('Fine arts or performing arts (ex. graphic design, music, studio art)',group3)\n",
    "        x = x.replace('I never declared a major',group3)\n",
    "        x = x.replace('Information systems, information technology, or system administration',group1)\n",
    "        x = x.replace('Mathematics or statistics',group2)\n",
    "        x = x.replace('Web development or web design',group1)\n",
    "    except:\n",
    "        pass\n",
    "    \n",
    "    return x\n",
    "\n",
    "df['UndergradMajor'] = df['UndergradMajor'].apply(regroup_undergrad_mojor)"
   ]
  },
  {
   "cell_type": "code",
   "execution_count": 6,
   "metadata": {},
   "outputs": [],
   "source": [
    "df=df.dropna(subset=['JobSearchStatus'])"
   ]
  },
  {
   "cell_type": "code",
   "execution_count": 7,
   "metadata": {},
   "outputs": [],
   "source": [
    "df=df.dropna(subset=['EducationParents','Dependents','Gender','Age','Student','Employment'])"
   ]
  },
  {
   "cell_type": "code",
   "execution_count": 8,
   "metadata": {},
   "outputs": [],
   "source": [
    "NAtoMostcommon = [\"CompanySize\",\"YearsCoding\",\"HoursComputer\",\"HoursOutside\",\"SkipMeals\",\"Exercise\",\"LastNewJob\",'FormalEducation']\n",
    "for col in NAtoMostcommon:\n",
    "    df[col] = df[col].fillna(df[col].value_counts().index[0])"
   ]
  },
  {
   "cell_type": "code",
   "execution_count": 9,
   "metadata": {},
   "outputs": [],
   "source": [
    "df[\"JobSatisfaction\"] = df[\"JobSatisfaction\"].fillna(0)\n",
    "df[\"UndergradMajor\"] = df[\"UndergradMajor\"].fillna('Non-Engineering/CS/Business')"
   ]
  },
  {
   "cell_type": "code",
   "execution_count": 10,
   "metadata": {},
   "outputs": [],
   "source": [
    "dummy_columns=['DevType','LanguageWorkedWith','DatabaseWorkedWith','PlatformWorkedWith','IDE','OperatingSystem']\n",
    "for x in dummy_columns:\n",
    "    df1=df[x].str.get_dummies(sep=';')\n",
    "    df=pd.concat([df,df1], axis=1)\n",
    "    \n",
    "df = df.drop(dummy_columns,axis=1)"
   ]
  },
  {
   "cell_type": "code",
   "execution_count": 11,
   "metadata": {},
   "outputs": [
    {
     "data": {
      "text/html": [
       "<div>\n",
       "<style scoped>\n",
       "    .dataframe tbody tr th:only-of-type {\n",
       "        vertical-align: middle;\n",
       "    }\n",
       "\n",
       "    .dataframe tbody tr th {\n",
       "        vertical-align: top;\n",
       "    }\n",
       "\n",
       "    .dataframe thead th {\n",
       "        text-align: right;\n",
       "    }\n",
       "</style>\n",
       "<table border=\"1\" class=\"dataframe\">\n",
       "  <thead>\n",
       "    <tr style=\"text-align: right;\">\n",
       "      <th></th>\n",
       "      <th>Total</th>\n",
       "      <th>Percent</th>\n",
       "    </tr>\n",
       "  </thead>\n",
       "  <tbody>\n",
       "  </tbody>\n",
       "</table>\n",
       "</div>"
      ],
      "text/plain": [
       "Empty DataFrame\n",
       "Columns: [Total, Percent]\n",
       "Index: []"
      ]
     },
     "execution_count": 11,
     "metadata": {},
     "output_type": "execute_result"
    }
   ],
   "source": [
    "total = df.isnull().sum().sort_values(ascending=False)\n",
    "percent = (df.isnull().sum()/df.isnull().count()).sort_values(ascending=False)\n",
    "missing = pd.concat([total, percent], axis=1, keys=['Total', 'Percent'])\n",
    "missing[missing['Total']>0]"
   ]
  },
  {
   "cell_type": "code",
   "execution_count": 12,
   "metadata": {},
   "outputs": [],
   "source": [
    "categorical_col = ['Country', 'Student', 'Employment', 'FormalEducation', 'UndergradMajor',\n",
    "       'CompanySize', 'YearsCoding', 'LastNewJob', 'HoursComputer',\n",
    "       'HoursOutside', 'SkipMeals', 'Exercise', 'Gender', 'EducationParents',\n",
    "       'Age', 'Dependents']\n",
    "\n",
    "for col in categorical_col:\n",
    "    dummy_df = pd.get_dummies(df[col],drop_first=True)\n",
    "    df = df.join(dummy_df, on= df.index , how='left', rsuffix= '_'+col)\n",
    "    \n",
    "df = df.drop(categorical_col,axis=1)"
   ]
  },
  {
   "cell_type": "code",
   "execution_count": 13,
   "metadata": {},
   "outputs": [
    {
     "data": {
      "text/plain": [
       "I’m not actively looking, but I am open to new opportunities    33252\n",
       "I am not interested in new job opportunities                    14066\n",
       "I am actively looking for a job                                  8086\n",
       "Name: JobSearchStatus, dtype: int64"
      ]
     },
     "execution_count": 13,
     "metadata": {},
     "output_type": "execute_result"
    }
   ],
   "source": [
    "df['JobSearchStatus'].value_counts()"
   ]
  },
  {
   "cell_type": "code",
   "execution_count": 14,
   "metadata": {},
   "outputs": [],
   "source": [
    "df=df[df['JobSearchStatus']!='I’m not actively looking, but I am open to new opportunities']"
   ]
  },
  {
   "cell_type": "code",
   "execution_count": 15,
   "metadata": {
    "scrolled": true
   },
   "outputs": [
    {
     "data": {
      "text/plain": [
       "I am not interested in new job opportunities    14066\n",
       "I am actively looking for a job                  8086\n",
       "Name: JobSearchStatus, dtype: int64"
      ]
     },
     "execution_count": 15,
     "metadata": {},
     "output_type": "execute_result"
    }
   ],
   "source": [
    "# dependent variable\n",
    "\n",
    "# df['JobSearchStatus']=df['JobSearchStatus'].apply(lambda x: 0 if x=='I am not interested in new job opportunities' else x)\n",
    "# df['JobSearchStatus']=df['JobSearchStatus'].apply(lambda x: 1 if x=='I’m not actively looking, but I am open to new opportunities' else x)\n",
    "# df['JobSearchStatus']=df['JobSearchStatus'].apply(lambda x: 2 if x=='I am actively looking for a job' else x)\n",
    "df['JobSearchStatus'].value_counts()"
   ]
  },
  {
   "cell_type": "code",
   "execution_count": 16,
   "metadata": {},
   "outputs": [],
   "source": [
    "df['JobSearchStatus']=df['JobSearchStatus'].apply(lambda x: 0 if x=='I am not interested in new job opportunities' else 1)\n",
    "   "
   ]
  },
  {
   "cell_type": "code",
   "execution_count": 17,
   "metadata": {},
   "outputs": [],
   "source": [
    "#df.to_csv('dummied_basic_features.csv')"
   ]
  },
  {
   "cell_type": "code",
   "execution_count": 18,
   "metadata": {},
   "outputs": [
    {
     "name": "stderr",
     "output_type": "stream",
     "text": [
      "/anaconda3/lib/python3.7/site-packages/sklearn/model_selection/_split.py:2179: FutureWarning: From version 0.21, test_size will always complement train_size unless both are specified.\n",
      "  FutureWarning)\n"
     ]
    }
   ],
   "source": [
    "train,test = train_test_split(df,train_size = 0.75,random_state=0)\n",
    "features = list(df.columns)\n",
    "features.remove('JobSearchStatus')\n",
    "x_train = train[features]\n",
    "y_train = train['JobSearchStatus']\n",
    "x_test = test[features]\n",
    "y_test = test['JobSearchStatus']"
   ]
  },
  {
   "cell_type": "code",
   "execution_count": 20,
   "metadata": {},
   "outputs": [
    {
     "name": "stderr",
     "output_type": "stream",
     "text": [
      "C:\\Users\\harry\\Anaconda3\\lib\\site-packages\\sklearn\\linear_model\\logistic.py:433: FutureWarning: Default solver will be changed to 'lbfgs' in 0.22. Specify a solver to silence this warning.\n",
      "  FutureWarning)\n"
     ]
    },
    {
     "data": {
      "text/plain": [
       "LogisticRegression(C=1.0, class_weight=None, dual=False, fit_intercept=True,\n",
       "          intercept_scaling=1, max_iter=100, multi_class='warn',\n",
       "          n_jobs=None, penalty='l2', random_state=None, solver='warn',\n",
       "          tol=0.0001, verbose=0, warm_start=False)"
      ]
     },
     "execution_count": 20,
     "metadata": {},
     "output_type": "execute_result"
    }
   ],
   "source": [
    "logreg = LogisticRegression()\n",
    "logreg.fit(x_train, y_train)"
   ]
  },
  {
   "cell_type": "code",
   "execution_count": 21,
   "metadata": {},
   "outputs": [],
   "source": [
    "y_pred = logreg.predict(x_test)"
   ]
  },
  {
   "cell_type": "code",
   "execution_count": 22,
   "metadata": {},
   "outputs": [
    {
     "name": "stderr",
     "output_type": "stream",
     "text": [
      "C:\\Users\\harry\\Anaconda3\\lib\\site-packages\\sklearn\\linear_model\\logistic.py:433: FutureWarning: Default solver will be changed to 'lbfgs' in 0.22. Specify a solver to silence this warning.\n",
      "  FutureWarning)\n",
      "C:\\Users\\harry\\Anaconda3\\lib\\site-packages\\sklearn\\linear_model\\logistic.py:433: FutureWarning: Default solver will be changed to 'lbfgs' in 0.22. Specify a solver to silence this warning.\n",
      "  FutureWarning)\n",
      "C:\\Users\\harry\\Anaconda3\\lib\\site-packages\\sklearn\\linear_model\\logistic.py:433: FutureWarning: Default solver will be changed to 'lbfgs' in 0.22. Specify a solver to silence this warning.\n",
      "  FutureWarning)\n",
      "C:\\Users\\harry\\Anaconda3\\lib\\site-packages\\sklearn\\linear_model\\logistic.py:433: FutureWarning: Default solver will be changed to 'lbfgs' in 0.22. Specify a solver to silence this warning.\n",
      "  FutureWarning)\n",
      "C:\\Users\\harry\\Anaconda3\\lib\\site-packages\\sklearn\\linear_model\\logistic.py:433: FutureWarning: Default solver will be changed to 'lbfgs' in 0.22. Specify a solver to silence this warning.\n",
      "  FutureWarning)\n"
     ]
    },
    {
     "data": {
      "text/plain": [
       "0.8259901054464412"
      ]
     },
     "execution_count": 22,
     "metadata": {},
     "output_type": "execute_result"
    }
   ],
   "source": [
    "cross_val_score(logreg, x_train,y_train, cv=5).mean()"
   ]
  },
  {
   "cell_type": "code",
   "execution_count": 23,
   "metadata": {},
   "outputs": [
    {
     "data": {
      "text/plain": [
       "0.8322499097146985"
      ]
     },
     "execution_count": 23,
     "metadata": {},
     "output_type": "execute_result"
    }
   ],
   "source": [
    "logreg.score(x_test,y_test)"
   ]
  },
  {
   "cell_type": "markdown",
   "metadata": {},
   "source": [
    "# Tree-based Models"
   ]
  },
  {
   "cell_type": "markdown",
   "metadata": {},
   "source": [
    "## Decision Tree"
   ]
  },
  {
   "cell_type": "code",
   "execution_count": 74,
   "metadata": {},
   "outputs": [],
   "source": [
    "evaluation=pd.DataFrame(columns=[\"Model\",\"Train Cross_Validation accuracy\",\n",
    "                                 'Test Accuracy','Train Cross_Validation AUC','Test AUC'])"
   ]
  },
  {
   "cell_type": "code",
   "execution_count": 75,
   "metadata": {},
   "outputs": [
    {
     "data": {
      "image/png": "[encoded data removed]",
      "text/plain": [
       "<Figure size 432x288 with 1 Axes>"
      ]
     },
     "metadata": {
      "needs_background": "light"
     },
     "output_type": "display_data"
    }
   ],
   "source": [
    "import matplotlib.pyplot as plt\n",
    "%matplotlib inline\n",
    "# Try trees with different max_depth and find the optimal max_depth\n",
    "x = []\n",
    "y = []\n",
    "for i in range(1,20):\n",
    "    model_1 = tree.DecisionTreeClassifier(max_depth=i)\n",
    "    model_1.fit(x_train,y_train)\n",
    "    x.append(i)\n",
    "    #y.append(cross_val_score(model_1, x_train,y_train, cv=5).mean())\n",
    "    y.append(cross_val_score(model_1, x_train,y_train, cv=5, scoring='roc_auc').mean())\n",
    "plt.plot(x,y)\n",
    "plt.xlabel('depth')\n",
    "plt.ylabel('AUC')\n",
    "plt.show()"
   ]
  },
  {
   "cell_type": "code",
   "execution_count": 76,
   "metadata": {},
   "outputs": [
    {
     "data": {
      "text/html": [
       "<div>\n",
       "<style scoped>\n",
       "    .dataframe tbody tr th:only-of-type {\n",
       "        vertical-align: middle;\n",
       "    }\n",
       "\n",
       "    .dataframe tbody tr th {\n",
       "        vertical-align: top;\n",
       "    }\n",
       "\n",
       "    .dataframe thead th {\n",
       "        text-align: right;\n",
       "    }\n",
       "</style>\n",
       "<table border=\"1\" class=\"dataframe\">\n",
       "  <thead>\n",
       "    <tr style=\"text-align: right;\">\n",
       "      <th></th>\n",
       "      <th>Model</th>\n",
       "      <th>Train Cross_Validation accuracy</th>\n",
       "      <th>Test Accuracy</th>\n",
       "      <th>Train Cross_Validation AUC</th>\n",
       "      <th>Test AUC</th>\n",
       "    </tr>\n",
       "  </thead>\n",
       "  <tbody>\n",
       "    <tr>\n",
       "      <th>0</th>\n",
       "      <td>Decision Tree</td>\n",
       "      <td>0.811002</td>\n",
       "      <td>0.815096</td>\n",
       "      <td>0.871392</td>\n",
       "      <td>0.86935</td>\n",
       "    </tr>\n",
       "  </tbody>\n",
       "</table>\n",
       "</div>"
      ],
      "text/plain": [
       "           Model  Train Cross_Validation accuracy  Test Accuracy  \\\n",
       "0  Decision Tree                         0.811002       0.815096   \n",
       "\n",
       "   Train Cross_Validation AUC  Test AUC  \n",
       "0                    0.871392   0.86935  "
      ]
     },
     "execution_count": 76,
     "metadata": {},
     "output_type": "execute_result"
    }
   ],
   "source": [
    "# From the above plot,we can see that at the depth with 7, the decision model has the best auc.\n",
    "tree_model = tree.DecisionTreeClassifier(max_depth = 7,criterion='entropy')\n",
    "tree_model.fit(x_train,y_train)\n",
    "\n",
    "tree_cross_accuracy=cross_val_score(tree_model, x_train,y_train, cv=5).mean()\n",
    "tree_test_accuracy=tree_model.score(x_test,y_test)\n",
    "\n",
    "ttest_predprob = tree_model.predict_proba(x_test)[:,1]\n",
    "tree_cross_AUC=cross_val_score(tree_model, x_train,y_train, cv=5,scoring='roc_auc').mean()\n",
    "tree_test_AUC=metrics.roc_auc_score(y_test,ttest_predprob)\n",
    "\n",
    "\n",
    "r = evaluation.shape[0]\n",
    "evaluation.loc[r] = ['Decision Tree',tree_cross_accuracy,tree_test_accuracy,tree_cross_AUC,tree_test_AUC]\n",
    "evaluation\n",
    "#tree_model.score(x_test,y_test)"
   ]
  },
  {
   "cell_type": "markdown",
   "metadata": {},
   "source": [
    "## Random Forest"
   ]
  },
  {
   "cell_type": "markdown",
   "metadata": {},
   "source": [
    "- Tune hyperparameters of Random Forest"
   ]
  },
  {
   "cell_type": "code",
   "execution_count": 34,
   "metadata": {},
   "outputs": [
    {
     "data": {
      "text/plain": [
       "(0.8819904022230339,\n",
       " {'max_depth': 14,\n",
       "  'min_samples_leaf': 100,\n",
       "  'min_samples_split': 200,\n",
       "  'n_estimators': 200})"
      ]
     },
     "execution_count": 34,
     "metadata": {},
     "output_type": "execute_result"
    }
   ],
   "source": [
    "parameters = {\n",
    "     'n_estimators':[i for i in range(100,400,100)], # Number of trees\n",
    "     'max_depth':list(range(8,15,2)),\n",
    "     'min_samples_split': list(range(100,601,100)),\n",
    "     'min_samples_leaf': list(range(100,601,100))\n",
    "}\n",
    "model_2 = GridSearchCV(RandomForestClassifier(),parameters,scoring=\"roc_auc\", n_jobs=-1,cv=5,iid=False)\n",
    "model_2.fit(x_train, np.ravel(y_train))\n",
    "model_2.best_score_, model_2.best_params_"
   ]
  },
  {
   "cell_type": "code",
   "execution_count": 35,
   "metadata": {},
   "outputs": [
    {
     "data": {
      "text/plain": [
       "(0.8812628705635879,\n",
       " {'max_depth': 16,\n",
       "  'min_samples_leaf': 100,\n",
       "  'min_samples_split': 200,\n",
       "  'n_estimators': 150})"
      ]
     },
     "execution_count": 35,
     "metadata": {},
     "output_type": "execute_result"
    }
   ],
   "source": [
    "parameters = {\n",
    "     'n_estimators':[i for i in range(150,250,200)], # Number of trees\n",
    "     'max_depth':list(range(12,18,2)),\n",
    "     'min_samples_split': list(range(100,301,100)),\n",
    "     'min_samples_leaf': list(range(100,301,50))\n",
    "}\n",
    "model_2 = GridSearchCV(RandomForestClassifier(),parameters,scoring=\"roc_auc\", n_jobs=-1,cv=5,iid=False)\n",
    "model_2.fit(x_train, np.ravel(y_train))\n",
    "model_2.best_score_, model_2.best_params_"
   ]
  },
  {
   "cell_type": "markdown",
   "metadata": {},
   "source": [
    "- Random forest with optimal combination of hyperparameters"
   ]
  },
  {
   "cell_type": "code",
   "execution_count": 78,
   "metadata": {},
   "outputs": [],
   "source": [
    "rf = RandomForestClassifier(max_depth= 14,min_samples_leaf = 100,min_samples_split= 200,n_estimators=150)"
   ]
  },
  {
   "cell_type": "code",
   "execution_count": 79,
   "metadata": {},
   "outputs": [
    {
     "data": {
      "text/html": [
       "<div>\n",
       "<style scoped>\n",
       "    .dataframe tbody tr th:only-of-type {\n",
       "        vertical-align: middle;\n",
       "    }\n",
       "\n",
       "    .dataframe tbody tr th {\n",
       "        vertical-align: top;\n",
       "    }\n",
       "\n",
       "    .dataframe thead th {\n",
       "        text-align: right;\n",
       "    }\n",
       "</style>\n",
       "<table border=\"1\" class=\"dataframe\">\n",
       "  <thead>\n",
       "    <tr style=\"text-align: right;\">\n",
       "      <th></th>\n",
       "      <th>Model</th>\n",
       "      <th>Train Cross_Validation accuracy</th>\n",
       "      <th>Test Accuracy</th>\n",
       "      <th>Train Cross_Validation AUC</th>\n",
       "      <th>Test AUC</th>\n",
       "    </tr>\n",
       "  </thead>\n",
       "  <tbody>\n",
       "    <tr>\n",
       "      <th>0</th>\n",
       "      <td>Decision Tree</td>\n",
       "      <td>0.811002</td>\n",
       "      <td>0.815096</td>\n",
       "      <td>0.871392</td>\n",
       "      <td>0.869350</td>\n",
       "    </tr>\n",
       "    <tr>\n",
       "      <th>1</th>\n",
       "      <td>Random Forest</td>\n",
       "      <td>0.793367</td>\n",
       "      <td>0.793969</td>\n",
       "      <td>0.880312</td>\n",
       "      <td>0.879576</td>\n",
       "    </tr>\n",
       "  </tbody>\n",
       "</table>\n",
       "</div>"
      ],
      "text/plain": [
       "           Model  Train Cross_Validation accuracy  Test Accuracy  \\\n",
       "0  Decision Tree                         0.811002       0.815096   \n",
       "1  Random Forest                         0.793367       0.793969   \n",
       "\n",
       "   Train Cross_Validation AUC  Test AUC  \n",
       "0                    0.871392  0.869350  \n",
       "1                    0.880312  0.879576  "
      ]
     },
     "execution_count": 79,
     "metadata": {},
     "output_type": "execute_result"
    }
   ],
   "source": [
    "rf.fit(x_train,y_train)\n",
    "rf_cross_accuracy=cross_val_score(rf, x_train,y_train, cv=5).mean()\n",
    "rf_test_accuracy=rf.score(x_test,y_test)\n",
    "\n",
    "rftest_predprob = rf.predict_proba(x_test)[:,1]\n",
    "rf_cross_AUC=cross_val_score(rf, x_train,y_train, cv=5,scoring='roc_auc').mean()\n",
    "rf_test_AUC=metrics.roc_auc_score(y_test,rftest_predprob)\n",
    "\n",
    "r = evaluation.shape[0]\n",
    "evaluation.loc[r] = ['Random Forest',rf_cross_accuracy,rf_test_accuracy, rf_cross_AUC, rf_test_AUC ]\n",
    "evaluation"
   ]
  },
  {
   "cell_type": "code",
   "execution_count": 41,
   "metadata": {},
   "outputs": [
    {
     "data": {
      "text/plain": [
       "Text(0.5, 0, 'Relative Importance')"
      ]
     },
     "execution_count": 41,
     "metadata": {},
     "output_type": "execute_result"
    },
    {
     "data": {
      "image/png": "[encoded data removed]",
      "text/plain": [
       "<Figure size 576x576 with 1 Axes>"
      ]
     },
     "metadata": {
      "needs_background": "light"
     },
     "output_type": "display_data"
    }
   ],
   "source": [
    "importances = rf.feature_importances_\n",
    "indices = np.argsort(importances)\n",
    "plt.figure(figsize=(8,8))\n",
    "plt.title('Feature Importances')\n",
    "plt.barh(range(20), importances[indices][-20:], color='b', align='center')\n",
    "plt.yticks(range(20),x_train.columns[-20:])\n",
    "plt.xlabel('Relative Importance')"
   ]
  },
  {
   "cell_type": "markdown",
   "metadata": {},
   "source": [
    "## XGBoost Classifier"
   ]
  },
  {
   "cell_type": "code",
   "execution_count": 80,
   "metadata": {},
   "outputs": [],
   "source": [
    "def modelfit(alg, dtrain, predictors,useTrainCV=True, cv_folds=5, early_stopping_rounds=50):\n",
    "    \n",
    "    if useTrainCV:\n",
    "        xgb_param = alg.get_xgb_params()\n",
    "        xgtrain = xgb.DMatrix(dtrain[predictors].values, label=dtrain['JobSearchStatus'].values)\n",
    "        cvresult = xgb.cv(xgb_param, xgtrain, num_boost_round=alg.get_params()['n_estimators'], nfold=cv_folds,\n",
    "            metrics='auc', early_stopping_rounds=early_stopping_rounds)#, show_progress=False)\n",
    "        alg.set_params(n_estimators=cvresult.shape[0])\n",
    "    \n",
    "    #Fit the algorithm on the data\n",
    "    alg.fit(dtrain[predictors], dtrain['JobSearchStatus'],eval_metric='auc')\n",
    "        \n",
    "    #Predict training set:\n",
    "    dtrain_predictions = alg.predict(dtrain[predictors])\n",
    "    dtrain_predprob = alg.predict_proba(dtrain[predictors])[:,1]\n",
    "        \n",
    "    #Print model report:\n",
    "    print (\"\\nModel Report\")\n",
    "    print (\"Accuracy : %.4g\" % metrics.accuracy_score(dtrain['JobSearchStatus'].values, dtrain_predictions))#np.mean(dtrain_predictions==y_train)\n",
    "    print (\"AUC Score (Train): %f\" % metrics.roc_auc_score(dtrain['JobSearchStatus'], dtrain_predprob))"
   ]
  },
  {
   "cell_type": "markdown",
   "metadata": {},
   "source": [
    "- Set the default starting xgboost and start tuning hyperparameters"
   ]
  },
  {
   "cell_type": "code",
   "execution_count": 49,
   "metadata": {},
   "outputs": [
    {
     "name": "stdout",
     "output_type": "stream",
     "text": [
      "\n",
      "Model Report\n",
      "Accuracy : 0.8977\n",
      "AUC Score (Train): 0.960140\n"
     ]
    },
    {
     "data": {
      "text/plain": [
       "0.8977368484410738"
      ]
     },
     "execution_count": 49,
     "metadata": {},
     "output_type": "execute_result"
    }
   ],
   "source": [
    "#Choose all predictors except target & IDcols\n",
    "predictors = features\n",
    "xgb1 = XGBClassifier(\n",
    " learning_rate =0.1,\n",
    " n_estimators=1000,\n",
    " max_depth=5,\n",
    " min_child_weight=1,\n",
    " gamma=0,\n",
    " subsample=0.8,\n",
    " colsample_bytree=0.8,\n",
    " objective= 'binary:logistic',\n",
    " nthread=10,\n",
    " scale_pos_weight=1,\n",
    " seed=27)\n",
    "\n",
    "modelfit(xgb1, train, predictors)"
   ]
  },
  {
   "cell_type": "markdown",
   "metadata": {},
   "source": [
    "- Keep learning_rate fixed and tuning tree related hyperparameters"
   ]
  },
  {
   "cell_type": "code",
   "execution_count": 51,
   "metadata": {},
   "outputs": [
    {
     "data": {
      "text/plain": [
       "({'max_depth': 3, 'min_child_weight': 3, 'n_estimators': 400},\n",
       " 0.9083161742336054)"
      ]
     },
     "execution_count": 51,
     "metadata": {},
     "output_type": "execute_result"
    }
   ],
   "source": [
    "param_test1 = {\n",
    " 'max_depth':range(3,10,2),\n",
    " 'min_child_weight':range(1,6,2),\n",
    " 'n_estimators':range(100,600,100) \n",
    "}\n",
    "gsearch1 = GridSearchCV(estimator = XGBClassifier( learning_rate =0.1, gamma=0, subsample=0.8, colsample_bytree=0.8,\n",
    " objective= 'binary:logistic', nthread=8, scale_pos_weight=1, seed=27), \n",
    " param_grid = param_test1, scoring='roc_auc',n_jobs=8,iid=False, cv=5)\n",
    "gsearch1.fit(train[features],train['JobSearchStatus'])\n",
    "gsearch1.best_params_, gsearch1.best_score_\n"
   ]
  },
  {
   "cell_type": "markdown",
   "metadata": {},
   "source": [
    "Given optimal max_depth is the minimum value of choices, thus expand the range of max_depth"
   ]
  },
  {
   "cell_type": "code",
   "execution_count": 52,
   "metadata": {},
   "outputs": [
    {
     "data": {
      "text/plain": [
       "({'max_depth': 3}, 0.9083161742336054)"
      ]
     },
     "execution_count": 52,
     "metadata": {},
     "output_type": "execute_result"
    }
   ],
   "source": [
    "param_test2 = {\n",
    " 'max_depth':range(1,10,1)\n",
    "}\n",
    "gsearch1 = GridSearchCV(estimator = XGBClassifier( learning_rate =0.1, n_estimators=400, min_child_weight=3, gamma=0, subsample=0.8, colsample_bytree=0.8,\n",
    " objective= 'binary:logistic', nthread=8, scale_pos_weight=1, seed=27), \n",
    " param_grid = param_test2, scoring='roc_auc',n_jobs=8,iid=False, cv=5)\n",
    "gsearch1.fit(train[features],train['JobSearchStatus'])\n",
    "gsearch1.best_params_, gsearch1.best_score_\n"
   ]
  },
  {
   "cell_type": "code",
   "execution_count": 53,
   "metadata": {},
   "outputs": [
    {
     "data": {
      "text/plain": [
       "({'max_depth': 5}, 0.9052009026000706)"
      ]
     },
     "execution_count": 53,
     "metadata": {},
     "output_type": "execute_result"
    }
   ],
   "source": [
    "param_test2 = {\n",
    " 'max_depth':range(5,8,1)\n",
    "}\n",
    "gsearch1 = GridSearchCV(estimator = XGBClassifier( learning_rate =0.1, n_estimators=400, min_child_weight=3, gamma=0, subsample=0.8, colsample_bytree=0.8,\n",
    " objective= 'binary:logistic', nthread=8, scale_pos_weight=1, seed=27), \n",
    " param_grid = param_test2, scoring='roc_auc',n_jobs=8,iid=False, cv=5)\n",
    "gsearch1.fit(train[features],train['JobSearchStatus'])\n",
    "gsearch1.best_params_, gsearch1.best_score_\n"
   ]
  },
  {
   "cell_type": "code",
   "execution_count": 54,
   "metadata": {},
   "outputs": [
    {
     "data": {
      "text/plain": [
       "({'max_depth': 4}, 0.9074378785996092)"
      ]
     },
     "execution_count": 54,
     "metadata": {},
     "output_type": "execute_result"
    }
   ],
   "source": [
    "param_test2 = {\n",
    " 'max_depth':range(4,5,1)\n",
    "}\n",
    "gsearch1 = GridSearchCV(estimator = XGBClassifier( learning_rate =0.1, n_estimators=400, min_child_weight=3, gamma=0, subsample=0.8, colsample_bytree=0.8,\n",
    " objective= 'binary:logistic', nthread=8, scale_pos_weight=1, seed=27), \n",
    " param_grid = param_test2, scoring='roc_auc',n_jobs=8,iid=False, cv=5)\n",
    "gsearch1.fit(train[features],train['JobSearchStatus'])\n",
    "gsearch1.best_params_, gsearch1.best_score_\n"
   ]
  },
  {
   "cell_type": "markdown",
   "metadata": {},
   "source": [
    "Thus optimal tree_related parameters: {'max_depth': 4, 'min_child_weight': 3, 'n_estimators': 400}"
   ]
  },
  {
   "cell_type": "markdown",
   "metadata": {},
   "source": [
    "- Tune parameter gamma"
   ]
  },
  {
   "cell_type": "code",
   "execution_count": 57,
   "metadata": {},
   "outputs": [
    {
     "data": {
      "text/plain": [
       "({'gamma': 0.2}, 0.9078719777219861)"
      ]
     },
     "execution_count": 57,
     "metadata": {},
     "output_type": "execute_result"
    }
   ],
   "source": [
    "param_test3 = {\n",
    " 'gamma':[i/10.0 for i in range(0,5)]\n",
    "}\n",
    "gsearch3 = GridSearchCV(estimator = XGBClassifier( learning_rate =0.1, n_estimators=400, max_depth=4,\n",
    " min_child_weight=3, subsample=0.8, colsample_bytree=0.8,\n",
    " objective= 'binary:logistic', nthread=8, scale_pos_weight=1,seed=27), \n",
    " param_grid = param_test3, scoring='roc_auc',n_jobs=8,iid=False, cv=5)\n",
    "gsearch3.fit(train[features],train['JobSearchStatus'])\n",
    "gsearch3.best_params_, gsearch3.best_score_"
   ]
  },
  {
   "cell_type": "code",
   "execution_count": 58,
   "metadata": {},
   "outputs": [],
   "source": [
    "predictors = features\n",
    "xgb3 = XGBClassifier(\n",
    " learning_rate =0.1,\n",
    " n_estimators=400,\n",
    " max_depth=4,\n",
    " min_child_weight=3,\n",
    " gamma=0.2,\n",
    " subsample=0.8,\n",
    " colsample_bytree=0.8,\n",
    " objective= 'binary:logistic',\n",
    " nthread=8,\n",
    " scale_pos_weight=1,\n",
    " seed=27)"
   ]
  },
  {
   "cell_type": "markdown",
   "metadata": {},
   "source": [
    "- Tune parameter subsample and colsample_bytree"
   ]
  },
  {
   "cell_type": "code",
   "execution_count": 60,
   "metadata": {},
   "outputs": [
    {
     "data": {
      "text/plain": [
       "({'colsample_bytree': 0.7, 'subsample': 0.8}, 0.9080870441303777)"
      ]
     },
     "execution_count": 60,
     "metadata": {},
     "output_type": "execute_result"
    }
   ],
   "source": [
    "param_test4 = {\n",
    " 'subsample':[i/10.0 for i in range(6,10)],\n",
    " 'colsample_bytree':[i/10.0 for i in range(6,10)]\n",
    "}\n",
    "gsearch4 = GridSearchCV(estimator = XGBClassifier( learning_rate =0.1, n_estimators=400, max_depth=4,\n",
    " min_child_weight=3, gamma=0.2, \n",
    " objective= 'binary:logistic', nthread=8, scale_pos_weight=1,seed=27), \n",
    " param_grid = param_test4, scoring='roc_auc', n_jobs=8, iid=False, cv=5)\n",
    "gsearch4.fit(train[features],train['JobSearchStatus'])\n",
    "gsearch4.best_params_, gsearch4.best_score_"
   ]
  },
  {
   "cell_type": "code",
   "execution_count": 61,
   "metadata": {},
   "outputs": [
    {
     "data": {
      "text/plain": [
       "({'colsample_bytree': 0.75, 'subsample': 0.85}, 0.9080932142438598)"
      ]
     },
     "execution_count": 61,
     "metadata": {},
     "output_type": "execute_result"
    }
   ],
   "source": [
    "param_test5 = {\n",
    " 'subsample':[i/100.0 for i in range(75,90,5)],\n",
    " 'colsample_bytree':[i/100.0 for i in range(65,80,5)]\n",
    "}\n",
    "gsearch5 = GridSearchCV(estimator = XGBClassifier( learning_rate =0.1, n_estimators=400, max_depth=4,\n",
    " min_child_weight=3, gamma=0.2, \n",
    " objective= 'binary:logistic', nthread=8, scale_pos_weight=1,seed=27), \n",
    " param_grid = param_test5, scoring='roc_auc', n_jobs=8, iid=False, cv=5)\n",
    "gsearch5.fit(train[features],train['JobSearchStatus'])\n",
    "gsearch5.best_params_, gsearch5.best_score_"
   ]
  },
  {
   "cell_type": "code",
   "execution_count": 62,
   "metadata": {},
   "outputs": [],
   "source": [
    "predictors = features\n",
    "xgb5 = XGBClassifier(\n",
    " learning_rate =0.1,\n",
    " n_estimators=400,\n",
    " max_depth=4,\n",
    " min_child_weight=3,\n",
    " gamma=0.2,\n",
    " subsample=0.85,\n",
    " colsample_bytree=0.75,\n",
    " objective= 'binary:logistic',\n",
    " nthread=8,\n",
    " scale_pos_weight=1,\n",
    " seed=27)\n",
    "modelfit(xgb5, train, predictors)"
   ]
  },
  {
   "cell_type": "markdown",
   "metadata": {},
   "source": [
    "- Tune parameter reg_alpha"
   ]
  },
  {
   "cell_type": "code",
   "execution_count": 112,
   "metadata": {},
   "outputs": [
    {
     "data": {
      "text/plain": [
       "({'reg_alpha': 1e-05}, 0.9080932923589126)"
      ]
     },
     "execution_count": 112,
     "metadata": {},
     "output_type": "execute_result"
    }
   ],
   "source": [
    "param_test6 = {\n",
    " 'reg_alpha':[1e-5, 1e-2, 0.1, 1, 100]\n",
    "}\n",
    "gsearch6 = GridSearchCV(estimator = XGBClassifier(learning_rate =0.1, n_estimators=400, max_depth=4,\n",
    " min_child_weight=3, gamma=0.2, subsample=0.85, colsample_bytree=0.75,\n",
    " objective= 'binary:logistic', nthread=8, scale_pos_weight=1,seed=27), \n",
    " param_grid = param_test6, scoring='roc_auc',n_jobs=8,iid=False, cv=5)\n",
    "gsearch6.fit(train[features],train['JobSearchStatus'])\n",
    "gsearch6.best_params_, gsearch6.best_score_"
   ]
  },
  {
   "cell_type": "code",
   "execution_count": 113,
   "metadata": {},
   "outputs": [
    {
     "data": {
      "text/plain": [
       "({'reg_alpha': 1e-05}, 0.9080932923589126)"
      ]
     },
     "execution_count": 113,
     "metadata": {},
     "output_type": "execute_result"
    }
   ],
   "source": [
    "param_test6 = {\n",
    " 'reg_alpha':[1e-6, 5e-6, 1e-5, 2e-5, 4e-5, 8e-5]\n",
    "}\n",
    "gsearch6 = GridSearchCV(estimator = XGBClassifier(learning_rate =0.1, n_estimators=400, max_depth=4,\n",
    " min_child_weight=3, gamma=0.2, subsample=0.85, colsample_bytree=0.75,\n",
    " objective= 'binary:logistic', nthread=8, scale_pos_weight=1,seed=27), \n",
    " param_grid = param_test6, scoring='roc_auc',n_jobs=8,iid=False, cv=5)\n",
    "gsearch6.fit(train[features],train['JobSearchStatus'])\n",
    "gsearch6.best_params_, gsearch6.best_score_"
   ]
  },
  {
   "cell_type": "code",
   "execution_count": 114,
   "metadata": {},
   "outputs": [
    {
     "data": {
      "text/plain": [
       "({'reg_alpha': 0}, 0.9080932142438598)"
      ]
     },
     "execution_count": 114,
     "metadata": {},
     "output_type": "execute_result"
    }
   ],
   "source": [
    "param_test6 = {\n",
    " 'reg_alpha':[0, 1e-8, 1e-7, 1e-6]\n",
    "}\n",
    "gsearch6 = GridSearchCV(estimator = XGBClassifier(learning_rate =0.1, n_estimators=400, max_depth=4,\n",
    " min_child_weight=3, gamma=0.2, subsample=0.85, colsample_bytree=0.75,\n",
    " objective= 'binary:logistic', nthread=8, scale_pos_weight=1,seed=27), \n",
    " param_grid = param_test6, scoring='roc_auc',n_jobs=8,iid=False, cv=5)\n",
    "gsearch6.fit(train[features],train['JobSearchStatus'])\n",
    "gsearch6.best_params_, gsearch6.best_score_"
   ]
  },
  {
   "cell_type": "code",
   "execution_count": null,
   "metadata": {},
   "outputs": [],
   "source": [
    "# Thus, just ignore this parameter."
   ]
  },
  {
   "cell_type": "markdown",
   "metadata": {},
   "source": [
    "- Best XGBoost Classifier with optimal hyper-parameters"
   ]
  },
  {
   "cell_type": "code",
   "execution_count": 19,
   "metadata": {},
   "outputs": [],
   "source": [
    "# Set learning rate from 0.1 to 0.01\n",
    "# Set n_estimators from 400 to 4000 and below is the optimal model for XGBoost Classifier\n",
    "predictors = features\n",
    "xgb7 = XGBClassifier(\n",
    " learning_rate =0.01,\n",
    " n_estimators=4000,\n",
    " max_depth=4,\n",
    " min_child_weight=3,\n",
    " gamma=0.2,\n",
    " subsample=0.85,\n",
    " colsample_bytree=0.75,\n",
    " objective= 'binary:logistic',\n",
    " nthread=4,\n",
    " scale_pos_weight=1,\n",
    " seed=27)"
   ]
  },
  {
   "cell_type": "code",
   "execution_count": 82,
   "metadata": {},
   "outputs": [
    {
     "data": {
      "text/html": [
       "<div>\n",
       "<style scoped>\n",
       "    .dataframe tbody tr th:only-of-type {\n",
       "        vertical-align: middle;\n",
       "    }\n",
       "\n",
       "    .dataframe tbody tr th {\n",
       "        vertical-align: top;\n",
       "    }\n",
       "\n",
       "    .dataframe thead th {\n",
       "        text-align: right;\n",
       "    }\n",
       "</style>\n",
       "<table border=\"1\" class=\"dataframe\">\n",
       "  <thead>\n",
       "    <tr style=\"text-align: right;\">\n",
       "      <th></th>\n",
       "      <th>Model</th>\n",
       "      <th>Train Cross_Validation accuracy</th>\n",
       "      <th>Test Accuracy</th>\n",
       "      <th>Train Cross_Validation AUC</th>\n",
       "      <th>Test AUC</th>\n",
       "    </tr>\n",
       "  </thead>\n",
       "  <tbody>\n",
       "    <tr>\n",
       "      <th>0</th>\n",
       "      <td>Decision Tree</td>\n",
       "      <td>0.811002</td>\n",
       "      <td>0.815096</td>\n",
       "      <td>0.871392</td>\n",
       "      <td>0.869350</td>\n",
       "    </tr>\n",
       "    <tr>\n",
       "      <th>1</th>\n",
       "      <td>Random Forest</td>\n",
       "      <td>0.793367</td>\n",
       "      <td>0.793969</td>\n",
       "      <td>0.880312</td>\n",
       "      <td>0.879576</td>\n",
       "    </tr>\n",
       "    <tr>\n",
       "      <th>2</th>\n",
       "      <td>XGBoost</td>\n",
       "      <td>0.840074</td>\n",
       "      <td>0.836584</td>\n",
       "      <td>0.909305</td>\n",
       "      <td>0.905375</td>\n",
       "    </tr>\n",
       "  </tbody>\n",
       "</table>\n",
       "</div>"
      ],
      "text/plain": [
       "           Model  Train Cross_Validation accuracy  Test Accuracy  \\\n",
       "0  Decision Tree                         0.811002       0.815096   \n",
       "1  Random Forest                         0.793367       0.793969   \n",
       "2        XGBoost                         0.840074       0.836584   \n",
       "\n",
       "   Train Cross_Validation AUC  Test AUC  \n",
       "0                    0.871392  0.869350  \n",
       "1                    0.880312  0.879576  \n",
       "2                    0.909305  0.905375  "
      ]
     },
     "execution_count": 82,
     "metadata": {},
     "output_type": "execute_result"
    }
   ],
   "source": [
    "xgb7.fit(x_train,y_train)\n",
    "xgb_cross_accuracy=cross_val_score(xgb7, x_train,y_train, cv=5).mean()\n",
    "xgb_test_accuracy=xgb7.score(x_test,y_test)\n",
    "\n",
    "xgbtest_predprob = xgb7.predict_proba(x_test)[:,1]\n",
    "xgb_cross_AUC=cross_val_score(xgb7, x_train,y_train, cv=5,scoring='roc_auc').mean()\n",
    "xgb_test_AUC=metrics.roc_auc_score(y_test,xgbtest_predprob)\n",
    "\n",
    "r = evaluation.shape[0]\n",
    "evaluation.loc[r] = ['XGBoost',xgb_cross_accuracy,xgb_test_accuracy, xgb_cross_AUC, xgb_test_AUC ]\n",
    "evaluation"
   ]
  },
  {
   "cell_type": "markdown",
   "metadata": {},
   "source": [
    "# Find optimal threshold for the best model"
   ]
  },
  {
   "cell_type": "code",
   "execution_count": 84,
   "metadata": {},
   "outputs": [],
   "source": [
    "def get_classification(predictions,threshold):\n",
    "    classes=np.zeros_like(predictions)\n",
    "    for i in range(len(classes)):\n",
    "        if predictions[i]>threshold:\n",
    "            classes[i]=1\n",
    "    return classes"
   ]
  },
  {
   "cell_type": "code",
   "execution_count": 86,
   "metadata": {},
   "outputs": [],
   "source": [
    "from sklearn.metrics import confusion_matrix"
   ]
  },
  {
   "cell_type": "code",
   "execution_count": 103,
   "metadata": {},
   "outputs": [
    {
     "name": "stdout",
     "output_type": "stream",
     "text": [
      "0.91 27417.26618705036\n"
     ]
    }
   ],
   "source": [
    "income=30000\n",
    "cost=1000\n",
    "max=0\n",
    "index=0\n",
    "for i in range(1,100,3):\n",
    "    tn,fp,fn,tp=confusion_matrix(y_test,get_classification(xgbtest_predprob,i*0.01)).ravel()\n",
    "    p1=tp/(tp+fp) #precision\n",
    "    p2=fp/(tp+fp)\n",
    "    if p1*(income-cost)-p2*cost>max:\n",
    "        max=p1*(income-cost)-p2*cost\n",
    "        index=i*0.01\n",
    "        \n",
    "print(index,max)"
   ]
  },
  {
   "cell_type": "code",
   "execution_count": 111,
   "metadata": {},
   "outputs": [
    {
     "data": {
      "text/plain": [
       "[<matplotlib.lines.Line2D at 0x1f8134cf390>]"
      ]
     },
     "execution_count": 111,
     "metadata": {},
     "output_type": "execute_result"
    },
    {
     "data": {
      "image/png": "[encoded data removed]",
      "text/plain": [
       "<Figure size 432x288 with 1 Axes>"
      ]
     },
     "metadata": {
      "needs_background": "light"
     },
     "output_type": "display_data"
    }
   ],
   "source": [
    "income=30000\n",
    "cost=1000\n",
    "profit=list()\n",
    "index=list()\n",
    "for i in range(1,100,3):\n",
    "    tn,fp,fn,tp=confusion_matrix(y_test,get_classification(xgbtest_predprob,i*0.01)).ravel()\n",
    "    p1=tp/(tp+fp) #precision\n",
    "    p2=fp/(tp+fp)\n",
    "    index.append(0.01*i)\n",
    "    profit.append(p1*(income-cost)-p2*cost)\n",
    "plt.plot(index,profit)"
   ]
  },
  {
   "cell_type": "code",
   "execution_count": null,
   "metadata": {},
   "outputs": [],
   "source": []
  }
 ],
 "metadata": {
  "kernelspec": {
   "display_name": "Python 3",
   "language": "python",
   "name": "python3"
  },
  "language_info": {
   "codemirror_mode": {
    "name": "ipython",
    "version": 3
   },
   "file_extension": ".py",
   "mimetype": "text/x-python",
   "name": "python",
   "nbconvert_exporter": "python",
   "pygments_lexer": "ipython3",
   "version": "3.6.8"
  }
 },
 "nbformat": 4,
 "nbformat_minor": 2
}
