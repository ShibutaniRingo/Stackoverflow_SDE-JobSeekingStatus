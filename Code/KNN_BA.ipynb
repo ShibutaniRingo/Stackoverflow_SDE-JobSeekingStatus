{
 "cells": [
  {
   "cell_type": "code",
   "execution_count": 1,
   "metadata": {},
   "outputs": [],
   "source": [
    "import pandas as pd\n",
    "import numpy as np"
   ]
  },
  {
   "cell_type": "code",
   "execution_count": 2,
   "metadata": {},
   "outputs": [],
   "source": [
    "df = pd.read_csv(\"PreprocessedData.csv\",index_col=0)"
   ]
  },
  {
   "cell_type": "code",
   "execution_count": 3,
   "metadata": {},
   "outputs": [
    {
     "data": {
      "text/html": [
       "<div>\n",
       "<style scoped>\n",
       "    .dataframe tbody tr th:only-of-type {\n",
       "        vertical-align: middle;\n",
       "    }\n",
       "\n",
       "    .dataframe tbody tr th {\n",
       "        vertical-align: top;\n",
       "    }\n",
       "\n",
       "    .dataframe thead th {\n",
       "        text-align: right;\n",
       "    }\n",
       "</style>\n",
       "<table border=\"1\" class=\"dataframe\">\n",
       "  <thead>\n",
       "    <tr style=\"text-align: right;\">\n",
       "      <th></th>\n",
       "      <th>JobSatisfaction</th>\n",
       "      <th>JobSearchStatus</th>\n",
       "      <th>Back-end developer</th>\n",
       "      <th>C-suite executive (CEO, CTO, etc.)</th>\n",
       "      <th>Data or business analyst</th>\n",
       "      <th>Data scientist or machine learning specialist</th>\n",
       "      <th>Database administrator</th>\n",
       "      <th>Designer</th>\n",
       "      <th>Desktop or enterprise applications developer</th>\n",
       "      <th>DevOps specialist</th>\n",
       "      <th>...</th>\n",
       "      <th>I don't typically exercise</th>\n",
       "      <th>Male</th>\n",
       "      <th>Below Bachelor_EducationParents</th>\n",
       "      <th>Master_EducationParents</th>\n",
       "      <th>PhD._EducationParents</th>\n",
       "      <th>25 - 34 years old</th>\n",
       "      <th>35 - 44 years old</th>\n",
       "      <th>45 years or older</th>\n",
       "      <th>Under 18 years old</th>\n",
       "      <th>No dependents</th>\n",
       "    </tr>\n",
       "  </thead>\n",
       "  <tbody>\n",
       "    <tr>\n",
       "      <th>0</th>\n",
       "      <td>3.0</td>\n",
       "      <td>I’m not actively looking, but I am open to new...</td>\n",
       "      <td>0</td>\n",
       "      <td>0</td>\n",
       "      <td>0</td>\n",
       "      <td>0</td>\n",
       "      <td>0</td>\n",
       "      <td>0</td>\n",
       "      <td>0</td>\n",
       "      <td>0</td>\n",
       "      <td>...</td>\n",
       "      <td>0</td>\n",
       "      <td>1</td>\n",
       "      <td>0</td>\n",
       "      <td>0</td>\n",
       "      <td>0</td>\n",
       "      <td>1</td>\n",
       "      <td>0</td>\n",
       "      <td>0</td>\n",
       "      <td>0</td>\n",
       "      <td>0</td>\n",
       "    </tr>\n",
       "    <tr>\n",
       "      <th>1</th>\n",
       "      <td>-2.0</td>\n",
       "      <td>I am actively looking for a job</td>\n",
       "      <td>0</td>\n",
       "      <td>0</td>\n",
       "      <td>0</td>\n",
       "      <td>0</td>\n",
       "      <td>1</td>\n",
       "      <td>0</td>\n",
       "      <td>0</td>\n",
       "      <td>1</td>\n",
       "      <td>...</td>\n",
       "      <td>0</td>\n",
       "      <td>1</td>\n",
       "      <td>0</td>\n",
       "      <td>0</td>\n",
       "      <td>0</td>\n",
       "      <td>0</td>\n",
       "      <td>1</td>\n",
       "      <td>0</td>\n",
       "      <td>0</td>\n",
       "      <td>0</td>\n",
       "    </tr>\n",
       "    <tr>\n",
       "      <th>3</th>\n",
       "      <td>0.0</td>\n",
       "      <td>I’m not actively looking, but I am open to new...</td>\n",
       "      <td>0</td>\n",
       "      <td>0</td>\n",
       "      <td>0</td>\n",
       "      <td>0</td>\n",
       "      <td>0</td>\n",
       "      <td>0</td>\n",
       "      <td>0</td>\n",
       "      <td>0</td>\n",
       "      <td>...</td>\n",
       "      <td>1</td>\n",
       "      <td>1</td>\n",
       "      <td>1</td>\n",
       "      <td>0</td>\n",
       "      <td>0</td>\n",
       "      <td>0</td>\n",
       "      <td>1</td>\n",
       "      <td>0</td>\n",
       "      <td>0</td>\n",
       "      <td>1</td>\n",
       "    </tr>\n",
       "    <tr>\n",
       "      <th>4</th>\n",
       "      <td>1.0</td>\n",
       "      <td>I’m not actively looking, but I am open to new...</td>\n",
       "      <td>0</td>\n",
       "      <td>0</td>\n",
       "      <td>1</td>\n",
       "      <td>0</td>\n",
       "      <td>0</td>\n",
       "      <td>0</td>\n",
       "      <td>1</td>\n",
       "      <td>0</td>\n",
       "      <td>...</td>\n",
       "      <td>0</td>\n",
       "      <td>1</td>\n",
       "      <td>1</td>\n",
       "      <td>0</td>\n",
       "      <td>0</td>\n",
       "      <td>0</td>\n",
       "      <td>0</td>\n",
       "      <td>0</td>\n",
       "      <td>0</td>\n",
       "      <td>0</td>\n",
       "    </tr>\n",
       "    <tr>\n",
       "      <th>5</th>\n",
       "      <td>2.0</td>\n",
       "      <td>I am actively looking for a job</td>\n",
       "      <td>1</td>\n",
       "      <td>0</td>\n",
       "      <td>0</td>\n",
       "      <td>0</td>\n",
       "      <td>1</td>\n",
       "      <td>0</td>\n",
       "      <td>0</td>\n",
       "      <td>0</td>\n",
       "      <td>...</td>\n",
       "      <td>0</td>\n",
       "      <td>1</td>\n",
       "      <td>1</td>\n",
       "      <td>0</td>\n",
       "      <td>0</td>\n",
       "      <td>0</td>\n",
       "      <td>0</td>\n",
       "      <td>0</td>\n",
       "      <td>0</td>\n",
       "      <td>1</td>\n",
       "    </tr>\n",
       "  </tbody>\n",
       "</table>\n",
       "<p>5 rows × 186 columns</p>\n",
       "</div>"
      ],
      "text/plain": [
       "   JobSatisfaction                                    JobSearchStatus  \\\n",
       "0              3.0  I’m not actively looking, but I am open to new...   \n",
       "1             -2.0                    I am actively looking for a job   \n",
       "3              0.0  I’m not actively looking, but I am open to new...   \n",
       "4              1.0  I’m not actively looking, but I am open to new...   \n",
       "5              2.0                    I am actively looking for a job   \n",
       "\n",
       "   Back-end developer  C-suite executive (CEO, CTO, etc.)  \\\n",
       "0                   0                                   0   \n",
       "1                   0                                   0   \n",
       "3                   0                                   0   \n",
       "4                   0                                   0   \n",
       "5                   1                                   0   \n",
       "\n",
       "   Data or business analyst  Data scientist or machine learning specialist  \\\n",
       "0                         0                                              0   \n",
       "1                         0                                              0   \n",
       "3                         0                                              0   \n",
       "4                         1                                              0   \n",
       "5                         0                                              0   \n",
       "\n",
       "   Database administrator  Designer  \\\n",
       "0                       0         0   \n",
       "1                       1         0   \n",
       "3                       0         0   \n",
       "4                       0         0   \n",
       "5                       1         0   \n",
       "\n",
       "   Desktop or enterprise applications developer  DevOps specialist  ...  \\\n",
       "0                                             0                  0  ...   \n",
       "1                                             0                  1  ...   \n",
       "3                                             0                  0  ...   \n",
       "4                                             1                  0  ...   \n",
       "5                                             0                  0  ...   \n",
       "\n",
       "   I don't typically exercise  Male  Below Bachelor_EducationParents  \\\n",
       "0                           0     1                                0   \n",
       "1                           0     1                                0   \n",
       "3                           1     1                                1   \n",
       "4                           0     1                                1   \n",
       "5                           0     1                                1   \n",
       "\n",
       "   Master_EducationParents  PhD._EducationParents  25 - 34 years old  \\\n",
       "0                        0                      0                  1   \n",
       "1                        0                      0                  0   \n",
       "3                        0                      0                  0   \n",
       "4                        0                      0                  0   \n",
       "5                        0                      0                  0   \n",
       "\n",
       "   35 - 44 years old  45 years or older  Under 18 years old  No dependents  \n",
       "0                  0                  0                   0              0  \n",
       "1                  1                  0                   0              0  \n",
       "3                  1                  0                   0              1  \n",
       "4                  0                  0                   0              0  \n",
       "5                  0                  0                   0              1  \n",
       "\n",
       "[5 rows x 186 columns]"
      ]
     },
     "execution_count": 3,
     "metadata": {},
     "output_type": "execute_result"
    }
   ],
   "source": [
    "df.head()"
   ]
  },
  {
   "cell_type": "code",
   "execution_count": 4,
   "metadata": {},
   "outputs": [],
   "source": [
    "#label and features\n",
    "x = df.drop('JobSearchStatus', axis=1)  \n",
    "y = df['JobSearchStatus']  "
   ]
  },
  {
   "cell_type": "code",
   "execution_count": 5,
   "metadata": {},
   "outputs": [],
   "source": [
    "from sklearn.model_selection import train_test_split  \n",
    "x_train, x_test, y_train, y_test = train_test_split(x, y, test_size = 0.20)  "
   ]
  },
  {
   "cell_type": "code",
   "execution_count": 16,
   "metadata": {},
   "outputs": [
    {
     "data": {
      "text/plain": [
       "SVC(C=0.1, cache_size=200, class_weight=None, coef0=0.0,\n",
       "  decision_function_shape='ovr', degree=3, gamma='auto', kernel='linear',\n",
       "  max_iter=-1, probability=False, random_state=None, shrinking=True,\n",
       "  tol=0.001, verbose=False)"
      ]
     },
     "execution_count": 16,
     "metadata": {},
     "output_type": "execute_result"
    }
   ],
   "source": [
    "#try svm first, but it takes too much time\n",
    "from sklearn.svm import SVC # \"Support vector classifier\"\n",
    "model = SVC(kernel='linear', C=0.1)\n",
    "model.fit(x_train, y_train)"
   ]
  },
  {
   "cell_type": "code",
   "execution_count": 17,
   "metadata": {},
   "outputs": [
    {
     "name": "stdout",
     "output_type": "stream",
     "text": [
      "0.6091507986643805\n"
     ]
    }
   ],
   "source": [
    "y_pred = model.predict(x_test)\n",
    "print(np.mean(y_pred == y_test))"
   ]
  },
  {
   "cell_type": "code",
   "execution_count": 6,
   "metadata": {},
   "outputs": [],
   "source": [
    "from sklearn.neighbors import KNeighborsClassifier  \n",
    "#instantiate model\n",
    "knn = KNeighborsClassifier(n_neighbors=5) "
   ]
  },
  {
   "cell_type": "code",
   "execution_count": 7,
   "metadata": {},
   "outputs": [],
   "source": [
    "#try gridsearch first but it takes too long \n",
    "#from sklearn.grid_search import GridSearchCV\n",
    "#k_range = [5,10,15,20,25,30,35,40]\n",
    "#param_grid = dict(n_neighbors=k_range)\n",
    "#grid = GridSearchCV(knn, param_grid, cv=10, scoring='accuracy')\n",
    "#grid.fit(X, y)"
   ]
  },
  {
   "cell_type": "code",
   "execution_count": 8,
   "metadata": {},
   "outputs": [],
   "source": [
    "# examine the best model\n",
    "\n",
    "# Single best score achieved across all params (k)\n",
    "#print(grid.best_score_)\n",
    "\n",
    "# Dictionary containing the parameters (k) used to generate that score\n",
    "#print(grid.best_params_)\n",
    "#knn_best = KNeighborsClassifier(n_neighbors=5)  \n",
    "#knn_best.fit(x_train, y_train)  "
   ]
  },
  {
   "cell_type": "code",
   "execution_count": 9,
   "metadata": {},
   "outputs": [],
   "source": [
    "#find the best k manually\n",
    "k = [5,10,15,20,25,30,25,40]\n",
    "accuracy = []"
   ]
  },
  {
   "cell_type": "code",
   "execution_count": 10,
   "metadata": {},
   "outputs": [
    {
     "name": "stdout",
     "output_type": "stream",
     "text": [
      "0.5627650934031224\n",
      "0.592275065427308\n",
      "0.6037361248984748\n",
      "0.6123996029239238\n",
      "0.6123996029239238\n",
      "0.6195289233823662\n",
      "0.6123996029239238\n",
      "0.6250338417110369\n"
     ]
    }
   ],
   "source": [
    "for k_value in k:\n",
    "    knn = KNeighborsClassifier(n_neighbors=k_value) \n",
    "    knn.fit(x_train,y_train)\n",
    "    y_pred = knn.predict(x_test)\n",
    "    print(np.mean(y_pred == y_test))\n",
    "    accuracy.append(np.mean(y_pred == y_test))"
   ]
  },
  {
   "cell_type": "code",
   "execution_count": 14,
   "metadata": {},
   "outputs": [
    {
     "data": {
      "image/png": "[encoded data removed]",
      "text/plain": [
       "<Figure size 432x288 with 1 Axes>"
      ]
     },
     "metadata": {},
     "output_type": "display_data"
    }
   ],
   "source": [
    "import matplotlib.pyplot as plt\n",
    "plt.plot(k,accuracy)\n",
    "plt.show()"
   ]
  },
  {
   "cell_type": "code",
   "execution_count": 15,
   "metadata": {},
   "outputs": [
    {
     "data": {
      "text/plain": [
       "0.6123996029239238"
      ]
     },
     "execution_count": 15,
     "metadata": {},
     "output_type": "execute_result"
    }
   ],
   "source": [
    "#select k = 20\n",
    "knn_best = KNeighborsClassifier(n_neighbors=20)\n",
    "knn_best.fit(x_train,y_train)\n",
    "y_pred = knn_best.predict(x_test)\n",
    "np.mean(y_pred == y_test)\n",
    "    "
   ]
  },
  {
   "cell_type": "code",
   "execution_count": null,
   "metadata": {},
   "outputs": [],
   "source": []
  }
 ],
 "metadata": {
  "kernelspec": {
   "display_name": "Python 3",
   "language": "python",
   "name": "python3"
  },
  "language_info": {
   "codemirror_mode": {
    "name": "ipython",
    "version": 3
   },
   "file_extension": ".py",
   "mimetype": "text/x-python",
   "name": "python",
   "nbconvert_exporter": "python",
   "pygments_lexer": "ipython3",
   "version": "3.6.8"
  }
 },
 "nbformat": 4,
 "nbformat_minor": 2
}
